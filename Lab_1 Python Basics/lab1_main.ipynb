{
 "cells": [
  {
   "cell_type": "markdown",
   "metadata": {},
   "source": [
    "\n",
    "# Fibonacci"
   ]
  },
  {
   "cell_type": "code",
   "execution_count": 1,
   "metadata": {},
   "outputs": [
    {
     "name": "stdout",
     "output_type": "stream",
     "text": [
      "0\t1\t1\t2\t3\t"
     ]
    }
   ],
   "source": [
    "\n",
    "num=int(input(\"Enter any number\"))\n",
    "\n",
    "def fib(n):\n",
    "    if n==0:\n",
    "        return 0\n",
    "    elif n==1:\n",
    "        return 1\n",
    "    else:\n",
    "        return fib(n-1)+fib(n-2)\n",
    "\n",
    "for i in range(num):\n",
    "    print(fib(i), end =\"\\t\")\n",
    "\n",
    "\n"
   ]
  },
  {
   "cell_type": "markdown",
   "metadata": {},
   "source": [
    "# String Concatinate"
   ]
  },
  {
   "cell_type": "code",
   "execution_count": 2,
   "metadata": {},
   "outputs": [
    {
     "name": "stdout",
     "output_type": "stream",
     "text": [
      "ChiranGiBi\n"
     ]
    }
   ],
   "source": [
    "a=\"Chiran\"\n",
    "b=\"GiBi\"\n",
    "c=a+b\n",
    "print(c)\n"
   ]
  },
  {
   "cell_type": "markdown",
   "metadata": {},
   "source": [
    "# Exception Handeling"
   ]
  },
  {
   "cell_type": "code",
   "execution_count": 3,
   "metadata": {},
   "outputs": [
    {
     "name": "stdout",
     "output_type": "stream",
     "text": [
      "2.0\n"
     ]
    }
   ],
   "source": [
    "num1=int(input(\"Enter first number \"))\n",
    "num2=int(input(\"Enter second number \"))\n",
    "\n",
    "def divide(a,b):\n",
    "    return a/b\n",
    "\n",
    "try:\n",
    "    divResult=divide(num1,num2)\n",
    "\n",
    "except ZeroDivisionError:\n",
    "    print(\"Cannot divide by zero\")\n",
    "\n",
    "else:\n",
    "    print(divResult)"
   ]
  },
  {
   "cell_type": "markdown",
   "metadata": {},
   "source": [
    "# Factorial"
   ]
  },
  {
   "cell_type": "code",
   "execution_count": 4,
   "metadata": {},
   "outputs": [
    {
     "name": "stdout",
     "output_type": "stream",
     "text": [
      "120\n"
     ]
    }
   ],
   "source": [
    "num=int(input(\"Enter a number : \"))\n",
    "\n",
    "def fact(a):\n",
    "    if a==1:\n",
    "        return 1;\n",
    "    return a*fact(a-1)\n",
    "\n",
    "print(fact(num))"
   ]
  },
  {
   "cell_type": "markdown",
   "metadata": {},
   "source": [
    "# Remove Duplication From List"
   ]
  },
  {
   "cell_type": "code",
   "execution_count": 5,
   "metadata": {},
   "outputs": [
    {
     "name": "stdout",
     "output_type": "stream",
     "text": [
      "[1, 2, 3, 4, 5, 6, 7, 8, 9, 10]\n"
     ]
    }
   ],
   "source": [
    "item=[1,2,3,4,5,6,7,8,9,10,1,2,3,4,5,6,7,8,9,10]\n",
    "\n",
    "item=list(set(item))\n",
    "\n",
    "print(item)"
   ]
  },
  {
   "cell_type": "markdown",
   "metadata": {},
   "source": [
    "#  Read and Write in File"
   ]
  },
  {
   "cell_type": "code",
   "execution_count": 6,
   "metadata": {},
   "outputs": [
    {
     "name": "stdout",
     "output_type": "stream",
     "text": [
      "Hello World, Welcome to Python !\n"
     ]
    }
   ],
   "source": [
    "f=open(\"myFile.txt\",\"w\")\n",
    "\n",
    "f.write(\"Hello World, Welcome to Python !\")\n",
    "\n",
    "f.close();\n",
    "\n",
    "f=open(\"myFile.txt\",\"r\")\n",
    "\n",
    "message=f.read()\n",
    "\n",
    "print(message)\n",
    "\n",
    "f.close();"
   ]
  },
  {
   "cell_type": "markdown",
   "metadata": {},
   "source": [
    "# Discussion : \n",
    "From this Lab Assignment, we are able to learn the basics of python programming language.\n",
    "We got a sound knowledge about Fibonacci series implementation and findind factorial of\n",
    "a number. We also learned how to do read and write operations in a file. Removing duplication\n",
    "from a list , exception handeling and string concatination were also briefly understood."
   ]
  },
  {
   "cell_type": "markdown",
   "metadata": {},
   "source": []
  },
  {
   "cell_type": "markdown",
   "metadata": {},
   "source": [
    "# Conclusion :\n",
    "This Lab Assignment provided us with foundational knowledge of Python programming. We successfully implemented the Fibonacci series and factorial calculations, gaining insight into these core concepts. Additionally, we explored file operations, including reading and writing, enhancing our understanding of data handling in Python. Key techniques such as removing duplicates from lists, handling exceptions, and performing string concatenation were also practiced, equipping us with essential skills for efficient and error-free programming.\n",
    "\n",
    "\n",
    "\n",
    "\n",
    "\n",
    "\n"
   ]
  },
  {
   "cell_type": "markdown",
   "metadata": {},
   "source": []
  }
 ],
 "metadata": {
  "kernelspec": {
   "display_name": "Python 3",
   "language": "python",
   "name": "python3"
  },
  "language_info": {
   "codemirror_mode": {
    "name": "ipython",
    "version": 3
   },
   "file_extension": ".py",
   "mimetype": "text/x-python",
   "name": "python",
   "nbconvert_exporter": "python",
   "pygments_lexer": "ipython3",
   "version": "3.13.0"
  }
 },
 "nbformat": 4,
 "nbformat_minor": 2
}
